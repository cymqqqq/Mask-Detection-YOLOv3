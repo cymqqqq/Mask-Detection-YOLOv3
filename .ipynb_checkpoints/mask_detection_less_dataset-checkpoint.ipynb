{
 "cells": [
  {
   "cell_type": "code",
   "execution_count": null,
   "metadata": {
    "colab": {
     "base_uri": "https://localhost:8080/",
     "height": 33
    },
    "id": "-9lZe_XRJUvW",
    "outputId": "e9d890ee-8c59-4564-8d13-f23c33451967"
   },
   "outputs": [],
   "source": [
    "from google.colab import drive\n",
    "drive.mount('/content/gdrive')"
   ]
  },
  {
   "cell_type": "code",
   "execution_count": null,
   "metadata": {
    "colab": {
     "base_uri": "https://localhost:8080/",
     "height": 117
    },
    "id": "R3EdEtEQJdZI",
    "outputId": "b5e8a84e-94a8-4644-c3ac-c0443572493a"
   },
   "outputs": [],
   "source": [
    "# clone darknet repo\n",
    "!git clone https://github.com/AlexeyAB/darknet"
   ]
  },
  {
   "cell_type": "code",
   "execution_count": null,
   "metadata": {
    "id": "N_FmBvOoJdib"
   },
   "outputs": [],
   "source": [
    "# change makefile to have GPU and OPENCV enabled\n",
    "%cd darknet\n",
    "!sed -i 's/OPENCV=0/OPENCV=1/' Makefile\n",
    "!sed -i 's/GPU=0/GPU=1/' Makefile\n",
    "!sed -i 's/CUDNN=0/CUDNN=1/' Makefile"
   ]
  },
  {
   "cell_type": "code",
   "execution_count": null,
   "metadata": {
    "colab": {
     "base_uri": "https://localhost:8080/",
     "height": 83
    },
    "id": "WJzRHnrFJdpn",
    "outputId": "b8cda606-c30d-4432-a4e9-b4763fe0bdaf"
   },
   "outputs": [],
   "source": [
    "# verify CUDA\n",
    "!/usr/local/cuda/bin/nvcc --version"
   ]
  },
  {
   "cell_type": "code",
   "execution_count": null,
   "metadata": {
    "id": "HR0oCOFTJdsT"
   },
   "outputs": [],
   "source": [
    "# make darknet (build)\n",
    "!make"
   ]
  },
  {
   "cell_type": "code",
   "execution_count": null,
   "metadata": {
    "colab": {
     "base_uri": "https://localhost:8080/",
     "height": 33
    },
    "id": "LWt0D7ECJdu0",
    "outputId": "e5cb7656-deb0-427d-bb0f-60667ddb59ab"
   },
   "outputs": [],
   "source": [
    "!pwd"
   ]
  },
  {
   "cell_type": "code",
   "execution_count": null,
   "metadata": {
    "colab": {
     "base_uri": "https://localhost:8080/",
     "height": 150
    },
    "id": "J0iQypo2JdxL",
    "outputId": "c6820030-3229-4c6d-ee14-95c47ed0b8e0"
   },
   "outputs": [],
   "source": [
    "!ls"
   ]
  },
  {
   "cell_type": "code",
   "execution_count": null,
   "metadata": {
    "colab": {
     "base_uri": "https://localhost:8080/",
     "height": 33
    },
    "id": "uBsIKFhcJdzu",
    "outputId": "ebaec07b-9385-45db-ed92-bced36dab4e2"
   },
   "outputs": [],
   "source": [
    "%cd .."
   ]
  },
  {
   "cell_type": "code",
   "execution_count": null,
   "metadata": {
    "id": "CLDzO2ewJd5J"
   },
   "outputs": [],
   "source": [
    "# this creates a symbolic link so that now the path /content/gdrive/My\\ Drive/ is equal to /mydrive\n",
    "!ln -s /content/gdrive/My\\ Drive/ /mydrive\n",
    "!ls /mydrive"
   ]
  },
  {
   "cell_type": "code",
   "execution_count": null,
   "metadata": {
    "id": "QfENGwW-Jd2n"
   },
   "outputs": [],
   "source": [
    "!ls /mydrive/mask_detection/mask_images/"
   ]
  },
  {
   "cell_type": "code",
   "execution_count": null,
   "metadata": {
    "colab": {
     "base_uri": "https://localhost:8080/",
     "height": 33
    },
    "id": "FuVRHU7tLvLU",
    "outputId": "d9db2e67-96e6-4a71-dac1-ee971c6bd5d2"
   },
   "outputs": [],
   "source": [
    "!pwd"
   ]
  },
  {
   "cell_type": "code",
   "execution_count": null,
   "metadata": {
    "id": "D-qRHZBaLvS2"
   },
   "outputs": [],
   "source": [
    "!cp -r '/mydrive/mask_detection/mask_images' /content/darknet/data"
   ]
  },
  {
   "cell_type": "code",
   "execution_count": null,
   "metadata": {
    "id": "Ln_4naY1LvYk"
   },
   "outputs": [],
   "source": [
    "!cp /mydrive/mask_detection/yolov3.cfg /content/darknet/cfg"
   ]
  },
  {
   "cell_type": "code",
   "execution_count": null,
   "metadata": {
    "id": "_74X8Xp-Uy4I"
   },
   "outputs": [],
   "source": [
    "!cp /mydrive/mask_detection/train.txt /content/darknet/data\n",
    "!cp /mydrive/mask_detection/test.txt /content/darknet/data"
   ]
  },
  {
   "cell_type": "code",
   "execution_count": null,
   "metadata": {
    "id": "FUg3E0A8LvbA"
   },
   "outputs": [],
   "source": [
    "!cp /mydrive/mask_detection/obj.names /content/darknet/data\n",
    "!cp /mydrive/mask_detection/obj.data  /content/darknet/data"
   ]
  },
  {
   "cell_type": "code",
   "execution_count": null,
   "metadata": {
    "colab": {
     "base_uri": "https://localhost:8080/",
     "height": 83
    },
    "id": "UALbrKcRLvdh",
    "outputId": "73a7382a-1699-4214-da91-9f55d7e9f690"
   },
   "outputs": [],
   "source": [
    "!ls /content/darknet/data/"
   ]
  },
  {
   "cell_type": "code",
   "execution_count": null,
   "metadata": {
    "colab": {
     "base_uri": "https://localhost:8080/",
     "height": 33
    },
    "id": "gNeqQdpWLvgY",
    "outputId": "66fad200-137a-4673-d0b4-2c765cf8da03"
   },
   "outputs": [],
   "source": [
    "%cd darknet"
   ]
  },
  {
   "cell_type": "code",
   "execution_count": null,
   "metadata": {
    "colab": {
     "base_uri": "https://localhost:8080/",
     "height": 267
    },
    "id": "fwlZEe_AL_vA",
    "outputId": "573661b6-8428-45cd-d97d-9191098e0c0c"
   },
   "outputs": [],
   "source": [
    "# upload pretrained convolutional layer weights\n",
    "!wget http://pjreddie.com/media/files/darknet53.conv.74"
   ]
  },
  {
   "cell_type": "code",
   "execution_count": null,
   "metadata": {
    "id": "ev9SglzkMBE2"
   },
   "outputs": [],
   "source": [
    "# !./darknet detector train data/obj.data cfg/yolov3.cfg darknet53.conv.74 -dont_show"
   ]
  },
  {
   "cell_type": "code",
   "execution_count": null,
   "metadata": {
    "id": "sVjOdkNpicQ5"
   },
   "outputs": [],
   "source": [
    "!./darknet detector train data/obj.data cfg/yolov3.cfg /mydrive/mask_detection/backup/yolov3_last.weights -dont_show"
   ]
  },
  {
   "cell_type": "code",
   "execution_count": null,
   "metadata": {
    "colab": {
     "base_uri": "https://localhost:8080/",
     "height": 33
    },
    "id": "wRbSInLVn7qc",
    "outputId": "cc0075b4-d5c9-40e0-8cc3-a66f5002c658"
   },
   "outputs": [],
   "source": [
    "!pwd"
   ]
  },
  {
   "cell_type": "code",
   "execution_count": null,
   "metadata": {
    "colab": {
     "base_uri": "https://localhost:8080/",
     "height": 1000
    },
    "id": "2Z4xN5z8pA8k",
    "outputId": "1d83d0c9-dd11-40b9-88fd-f29c4c66ed80"
   },
   "outputs": [],
   "source": [
    "# calculate mAP when weighs=4000\n",
    "!./darknet detector map data/obj.data cfg/yolov3.cfg /mydrive/mask_detection/backup/yolov3_4000.weights -dont_show -ext_output "
   ]
  },
  {
   "cell_type": "code",
   "execution_count": null,
   "metadata": {
    "colab": {
     "base_uri": "https://localhost:8080/",
     "height": 1000
    },
    "id": "sKQYUExYnkDj",
    "outputId": "e5dd4a21-ba59-463b-96be-78f289bdcbd3"
   },
   "outputs": [],
   "source": [
    "# calculate mAP when weighs=last=6000\n",
    "!./darknet detector map data/obj.data cfg/yolov3.cfg /mydrive/mask_detection/backup/yolov3_last.weights -dont_show -ext_output "
   ]
  },
  {
   "cell_type": "code",
   "execution_count": null,
   "metadata": {
    "id": "kD8DH5dZMBHk"
   },
   "outputs": [],
   "source": [
    "# METHOD 1 OF FINDING BOUNDING BOX\n",
    "\n",
    "# define helper functions\n",
    "def imShow(path):\n",
    "  import cv2\n",
    "  import matplotlib.pyplot as plt\n",
    "  %matplotlib inline\n",
    "\n",
    "  image = cv2.imread(path)\n",
    "  height, width = image.shape[:2]\n",
    "\n",
    "  resized_image = cv2.resize(image,(3*width, 3*height), interpolation = cv2.INTER_CUBIC)\n",
    "\n",
    "  fig = plt.gcf()\n",
    "  fig.set_size_inches(18, 10)\n",
    "  plt.axis(\"off\")\n",
    "  plt.imshow(cv2.cvtColor(resized_image, cv2.COLOR_BGR2RGB))\n",
    "  plt.show()\n",
    "\n",
    "# use this to upload files\n",
    "def upload():\n",
    "  from google.colab import files\n",
    "  uploaded = files.upload() \n",
    "  for name, data in uploaded.items():\n",
    "    with open(name, 'wb') as f:\n",
    "      f.write(data)\n",
    "      print ('saved file', name)\n",
    "\n",
    "# use this to download a file  \n",
    "def download(path):\n",
    "  from google.colab import files\n",
    "  files.download(path)"
   ]
  },
  {
   "cell_type": "code",
   "execution_count": null,
   "metadata": {
    "colab": {
     "base_uri": "https://localhost:8080/",
     "height": 52
    },
    "id": "_6u_qGYcMBMx",
    "outputId": "bb0df3e7-4ad7-45b5-e30d-d886f0a33120"
   },
   "outputs": [],
   "source": [
    "# METHOD 1 OF FINDING BOUNDING BOX --continue\n",
    "# need to set our custom cfg to test mode \n",
    "\n",
    "%cd cfg\n",
    "!sed -i 's/batch=64/batch=1/' yolov3.cfg\n",
    "!sed -i 's/subdivisions=16/subdivisions=1/' yolov3.cfg\n",
    "%cd .."
   ]
  },
  {
   "cell_type": "code",
   "execution_count": null,
   "metadata": {
    "colab": {
     "base_uri": "https://localhost:8080/",
     "height": 1000
    },
    "id": "clP_QkaMSM_b",
    "outputId": "6c048a7d-8889-4e95-ca89-292376990943"
   },
   "outputs": [],
   "source": [
    "# METHOD 1 OF FINDING BOUNDING BOX --continue\n",
    "\n",
    "!./darknet detector test data/obj.data cfg/yolov3.cfg /mydrive/mask_detection/backup/yolov3_final.weights '/mydrive/Test Images/images56tyg.jpg'\n",
    "imShow('predictions.jpg')"
   ]
  }
 ],
 "metadata": {
  "accelerator": "GPU",
  "colab": {
   "collapsed_sections": [],
   "name": "mask_detection.ipynb",
   "provenance": []
  },
  "kernelspec": {
   "display_name": "Python 3",
   "language": "python",
   "name": "python3"
  },
  "language_info": {
   "codemirror_mode": {
    "name": "ipython",
    "version": 3
   },
   "file_extension": ".py",
   "mimetype": "text/x-python",
   "name": "python",
   "nbconvert_exporter": "python",
   "pygments_lexer": "ipython3",
   "version": "3.8.5"
  }
 },
 "nbformat": 4,
 "nbformat_minor": 1
}
