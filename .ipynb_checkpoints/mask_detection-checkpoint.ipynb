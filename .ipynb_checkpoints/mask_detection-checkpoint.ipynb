{
 "cells": [
  {
   "cell_type": "code",
   "execution_count": null,
   "metadata": {
    "id": "-9lZe_XRJUvW"
   },
   "outputs": [],
   "source": [
    "from google.colab import drive\n",
    "drive.mount('/content/gdrive')"
   ]
  },
  {
   "cell_type": "code",
   "execution_count": null,
   "metadata": {
    "colab": {
     "base_uri": "https://localhost:8080/",
     "height": 100
    },
    "id": "R3EdEtEQJdZI",
    "outputId": "328e7c39-0dcd-49cf-bcbc-05436873fea0"
   },
   "outputs": [],
   "source": [
    "# clone darknet repo\n",
    "!git clone https://github.com/AlexeyAB/darknet"
   ]
  },
  {
   "cell_type": "code",
   "execution_count": null,
   "metadata": {
    "colab": {
     "base_uri": "https://localhost:8080/",
     "height": 33
    },
    "id": "N_FmBvOoJdib",
    "outputId": "9f05af85-bafb-4a64-8655-14b898dc150d"
   },
   "outputs": [],
   "source": [
    "# change makefile to have GPU and OPENCV enabled\n",
    "%cd darknet\n",
    "!sed -i 's/OPENCV=0/OPENCV=1/' Makefile\n",
    "!sed -i 's/GPU=0/GPU=1/' Makefile\n",
    "!sed -i 's/CUDNN=0/CUDNN=1/' Makefile"
   ]
  },
  {
   "cell_type": "code",
   "execution_count": null,
   "metadata": {
    "colab": {
     "base_uri": "https://localhost:8080/",
     "height": 83
    },
    "id": "WJzRHnrFJdpn",
    "outputId": "f23a4464-e184-4af1-91c9-09190451d644"
   },
   "outputs": [],
   "source": [
    "# verify CUDA\n",
    "!/usr/local/cuda/bin/nvcc --version"
   ]
  },
  {
   "cell_type": "code",
   "execution_count": null,
   "metadata": {
    "id": "HR0oCOFTJdsT"
   },
   "outputs": [],
   "source": [
    "# make darknet (build)\n",
    "!make"
   ]
  },
  {
   "cell_type": "code",
   "execution_count": null,
   "metadata": {
    "colab": {
     "base_uri": "https://localhost:8080/",
     "height": 33
    },
    "id": "uBsIKFhcJdzu",
    "outputId": "e11656c7-fdb7-47c2-cbf6-44fb2f24aedd"
   },
   "outputs": [],
   "source": [
    "%cd .."
   ]
  },
  {
   "cell_type": "code",
   "execution_count": null,
   "metadata": {
    "id": "CLDzO2ewJd5J"
   },
   "outputs": [],
   "source": [
    "# this creates a symbolic link so that now the path /content/gdrive/My\\ Drive/ is equal to /mydrive\n",
    "!ln -s /content/gdrive/My\\ Drive/ /mydrive\n",
    "!ls /mydrive"
   ]
  },
  {
   "cell_type": "code",
   "execution_count": null,
   "metadata": {
    "id": "QfENGwW-Jd2n"
   },
   "outputs": [],
   "source": [
    "!ls /mydrive/mask_detection/mask_images/"
   ]
  },
  {
   "cell_type": "code",
   "execution_count": null,
   "metadata": {
    "id": "D-qRHZBaLvS2"
   },
   "outputs": [],
   "source": [
    "# before you continue, ensure that you have uploaded the entire mask_detection folder into Google Drive first\n",
    "\n",
    "# copy files from Google Drive to current session\n",
    "\n",
    "# for this example, I trained the model using mask_detection_v1 folder. Feel free to change it.\n",
    "!cp -r '/mydrive/mask_detection_v1/darknet/data/mask_images' /content/darknet/data\n",
    "\n",
    "!cp /mydrive/mask_detection_v1/darknet/cfg/yolov3.cfg /content/darknet/cfg\n",
    "\n",
    "!cp /mydrive/mask_detection_v1/darknet/data/train.txt /content/darknet/data\n",
    "!cp /mydrive/mask_detection_v1/darknet/data/test.txt /content/darknet/data\n",
    "\n",
    "!cp /mydrive/mask_detection_v1/darknet/data/obj.names /content/darknet/data\n",
    "!cp /mydrive/mask_detection_v1/darknet/data/obj.data  /content/darknet/data"
   ]
  },
  {
   "cell_type": "code",
   "execution_count": null,
   "metadata": {
    "colab": {
     "base_uri": "https://localhost:8080/",
     "height": 33
    },
    "id": "gNeqQdpWLvgY",
    "outputId": "754a53f5-c30c-4648-c3db-0153329b2a18"
   },
   "outputs": [],
   "source": [
    "%cd darknet"
   ]
  },
  {
   "cell_type": "code",
   "execution_count": null,
   "metadata": {
    "colab": {
     "base_uri": "https://localhost:8080/",
     "height": 267
    },
    "id": "fwlZEe_AL_vA",
    "outputId": "fdcec801-1680-4165-d9d4-fcd1e075ed91"
   },
   "outputs": [],
   "source": [
    "# upload pretrained convolutional layer weights\n",
    "!wget http://pjreddie.com/media/files/darknet53.conv.74"
   ]
  },
  {
   "cell_type": "code",
   "execution_count": null,
   "metadata": {
    "colab": {
     "base_uri": "https://localhost:8080/",
     "height": 1000
    },
    "id": "ev9SglzkMBE2",
    "outputId": "ec7a1558-9bf4-4664-fe52-8a6c5b4bde62"
   },
   "outputs": [],
   "source": [
    "# train the model\n",
    "!./darknet detector train data/obj.data cfg/yolov3.cfg darknet53.conv.74 -dont_show -map"
   ]
  },
  {
   "cell_type": "code",
   "execution_count": null,
   "metadata": {
    "id": "sVjOdkNpicQ5"
   },
   "outputs": [],
   "source": [
    "# !./darknet detector train data/obj.data cfg/yolov3.cfg /mydrive/mask_detection/backup/yolov3_last.weights -dont_show"
   ]
  },
  {
   "cell_type": "code",
   "execution_count": null,
   "metadata": {
    "colab": {
     "base_uri": "https://localhost:8080/",
     "height": 1000
    },
    "id": "2Z4xN5z8pA8k",
    "outputId": "d6fde74a-8f5e-497f-97bb-d8c13b4f418a"
   },
   "outputs": [],
   "source": [
    "# calculate mAP when weighs=4000\n",
    "!./darknet detector map data/obj.data cfg/yolov3.cfg /mydrive/mask_detection/backup/yolov3_4000.weights -dont_show -ext_output "
   ]
  },
  {
   "cell_type": "code",
   "execution_count": null,
   "metadata": {
    "colab": {
     "base_uri": "https://localhost:8080/",
     "height": 1000
    },
    "id": "sKQYUExYnkDj",
    "outputId": "a9e72139-ebfe-4fda-fa32-2e075523c137"
   },
   "outputs": [],
   "source": [
    "# calculate mAP when weighs=last=6000\n",
    "!./darknet detector map data/obj.data cfg/yolov3.cfg /mydrive/mask_detection/backup/yolov3_last.weights -dont_show -ext_output "
   ]
  },
  {
   "cell_type": "code",
   "execution_count": null,
   "metadata": {
    "id": "kD8DH5dZMBHk"
   },
   "outputs": [],
   "source": [
    "# METHOD 1 OF FINDING BOUNDING BOX\n",
    "\n",
    "# define helper functions\n",
    "def imShow(path):\n",
    "  import cv2\n",
    "  import matplotlib.pyplot as plt\n",
    "  %matplotlib inline\n",
    "\n",
    "  image = cv2.imread(path)\n",
    "  height, width = image.shape[:2]\n",
    "\n",
    "  resized_image = cv2.resize(image,(3*width, 3*height), interpolation = cv2.INTER_CUBIC)\n",
    "\n",
    "  fig = plt.gcf()\n",
    "  fig.set_size_inches(18, 10)\n",
    "  plt.axis(\"off\")\n",
    "  plt.imshow(cv2.cvtColor(resized_image, cv2.COLOR_BGR2RGB))\n",
    "  plt.show()\n",
    "\n",
    "# use this to upload files\n",
    "def upload():\n",
    "  from google.colab import files\n",
    "  uploaded = files.upload() \n",
    "  for name, data in uploaded.items():\n",
    "    with open(name, 'wb') as f:\n",
    "      f.write(data)\n",
    "      print ('saved file', name)\n",
    "\n",
    "# use this to download a file  \n",
    "def download(path):\n",
    "  from google.colab import files\n",
    "  files.download(path)"
   ]
  },
  {
   "cell_type": "code",
   "execution_count": null,
   "metadata": {
    "colab": {
     "base_uri": "https://localhost:8080/",
     "height": 50
    },
    "id": "_6u_qGYcMBMx",
    "outputId": "2c1a8e8c-2f65-4694-9f85-735f9b3692ef"
   },
   "outputs": [],
   "source": [
    "# METHOD 1 OF FINDING BOUNDING BOX --continue\n",
    "# need to set our custom cfg to test mode \n",
    "\n",
    "%cd cfg\n",
    "!sed -i 's/batch=64/batch=1/' yolov3.cfg\n",
    "!sed -i 's/subdivisions=16/subdivisions=1/' yolov3.cfg\n",
    "%cd .."
   ]
  },
  {
   "cell_type": "code",
   "execution_count": null,
   "metadata": {
    "colab": {
     "base_uri": "https://localhost:8080/",
     "height": 575
    },
    "id": "0jrwdbnKur5d",
    "outputId": "c842e940-e817-490c-a837-fd55b95c6310"
   },
   "outputs": [],
   "source": [
    "imShow('chart.png')\n",
    "download('chart.png')"
   ]
  },
  {
   "cell_type": "code",
   "execution_count": null,
   "metadata": {
    "colab": {
     "base_uri": "https://localhost:8080/",
     "height": 1000
    },
    "id": "clP_QkaMSM_b",
    "outputId": "9b4c4cca-db95-4347-c07a-aadbfdb961a2"
   },
   "outputs": [],
   "source": [
    "# METHOD 1 OF FINDING BOUNDING BOX --continue\n",
    "\n",
    "!./darknet detector test data/obj.data cfg/yolov3.cfg /mydrive/mask_detection/backup/yolov3_final.weights '/mydrive/Test Images/images56tyg.jpg'\n",
    "imShow('predictions.jpg')"
   ]
  },
  {
   "cell_type": "markdown",
   "metadata": {
    "id": "3_MOnQB7Fafe"
   },
   "source": [
    "Note: Method 2 of drawing bounding box will be used in local machine"
   ]
  }
 ],
 "metadata": {
  "accelerator": "GPU",
  "colab": {
   "collapsed_sections": [],
   "name": "mask_detection.ipynb",
   "provenance": []
  },
  "kernelspec": {
   "display_name": "Python 3",
   "language": "python",
   "name": "python3"
  },
  "language_info": {
   "codemirror_mode": {
    "name": "ipython",
    "version": 3
   },
   "file_extension": ".py",
   "mimetype": "text/x-python",
   "name": "python",
   "nbconvert_exporter": "python",
   "pygments_lexer": "ipython3",
   "version": "3.8.5"
  }
 },
 "nbformat": 4,
 "nbformat_minor": 1
}
